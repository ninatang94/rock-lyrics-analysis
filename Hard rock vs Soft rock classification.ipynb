{
 "cells": [
  {
   "cell_type": "code",
   "execution_count": 2,
   "metadata": {},
   "outputs": [],
   "source": [
    "# author: Shaoying Tang\n",
    "\n",
    "from bs4 import BeautifulSoup\n",
    "import requests\n",
    "import re\n",
    "from string import Template"
   ]
  },
  {
   "cell_type": "code",
   "execution_count": 3,
   "metadata": {
    "collapsed": true
   },
   "outputs": [],
   "source": [
    "def cleanhtml(raw_html):\n",
    "  cleanr = re.compile('<.*?>')\n",
    "  cleantext = re.sub(cleanr, ' ', raw_html)\n",
    "  return cleantext \n",
    "\n",
    "def get_lyrics(singer,song):\n",
    "    result = requests.get('http://lyrics.wikia.com/{0}:{1}'.format(singer,song))\n",
    "    soup  = BeautifulSoup(result.content)\n",
    "    lyrics = soup.find(\"div\",{'class':'lyricbox'})\n",
    "    return cleanhtml(str(lyrics))"
   ]
  },
  {
   "cell_type": "code",
   "execution_count": 4,
   "metadata": {
    "collapsed": true
   },
   "outputs": [],
   "source": [
    "import os\n",
    "os.chdir('E:\\\\Lyrics of 50 bands')\n",
    "import pandas as pd\n",
    "\n",
    "hr1 = pd.read_csv('hard rock 1.csv')\n",
    "hr2 = pd.read_csv('hard rock 2.csv')"
   ]
  },
  {
   "cell_type": "code",
   "execution_count": 177,
   "metadata": {
    "collapsed": true
   },
   "outputs": [],
   "source": [
    "singers_60 = ['Bob Dylan','The Beatles','The Beach Boys','The Supremes','The Kinks','The Animals','Cream',\n",
    "              'The Rolling Stones','The Doors','Elvis Presley']#10\n",
    "singers_70 = ['Led Zeppelin','Pink Floyd','The Carpenters','Eagles','Elton John',\n",
    "              'Queen','The Who','Fleetwood Mac','Chicago','Deep Purple']#10\n",
    "singers_80 = ['Guns N Roses','ACDC','Poison','U2','Def Leppard',\n",
    "              'Van Halen','Journey','Bon Jovi','Prince','Scorpions']#10\n",
    "singers_90 = ['Nirvana','Pearl Jam','R.E.M','Weezer','Metallica',\n",
    "              'Red Hot Chili Peppers','Sonic Youth','Nine Inch Nails','The Smashing Pumpkins','Oasis'] #10\n",
    "singers_00 = ['Radiohead','The White Stripes','Coldplay','Nickelback','Linkin Park',\n",
    "             'Three Days Grace','My Chemical Romance','Breaking Benjamin','Muse','Avenged Sevenfold'] #10\n",
    "\n",
    "singers = singers_60 + singers_70 + singers_80 + singers_90 + singers_00"
   ]
  },
  {
   "cell_type": "code",
   "execution_count": 44,
   "metadata": {},
   "outputs": [
    {
     "data": {
      "text/html": [
       "<div>\n",
       "<table border=\"1\" class=\"dataframe\">\n",
       "  <thead>\n",
       "    <tr style=\"text-align: right;\">\n",
       "      <th></th>\n",
       "      <th>Singer</th>\n",
       "      <th>Song</th>\n",
       "    </tr>\n",
       "  </thead>\n",
       "  <tbody>\n",
       "    <tr>\n",
       "      <th>0</th>\n",
       "      <td>Sammy Hagar</td>\n",
       "      <td>I Can’t Drive 55</td>\n",
       "    </tr>\n",
       "    <tr>\n",
       "      <th>1</th>\n",
       "      <td>Grand Funk Railroad</td>\n",
       "      <td>We’re An American Bandv</td>\n",
       "    </tr>\n",
       "    <tr>\n",
       "      <th>2</th>\n",
       "      <td>Buckcherry</td>\n",
       "      <td>Lit Up</td>\n",
       "    </tr>\n",
       "    <tr>\n",
       "      <th>3</th>\n",
       "      <td>The Edgar Winter Group</td>\n",
       "      <td>Frankenstein</td>\n",
       "    </tr>\n",
       "    <tr>\n",
       "      <th>4</th>\n",
       "      <td>Kansas</td>\n",
       "      <td>Carry On Wayward Son</td>\n",
       "    </tr>\n",
       "  </tbody>\n",
       "</table>\n",
       "</div>"
      ],
      "text/plain": [
       "                   Singer                     Song\n",
       "0             Sammy Hagar         I Can’t Drive 55\n",
       "1     Grand Funk Railroad  We’re An American Bandv\n",
       "2              Buckcherry                   Lit Up\n",
       "3  The Edgar Winter Group             Frankenstein\n",
       "4                  Kansas     Carry On Wayward Son"
      ]
     },
     "execution_count": 44,
     "metadata": {},
     "output_type": "execute_result"
    }
   ],
   "source": [
    "hr1['Singer'] = [i.strip() for i in hr1['Singer']]\n",
    "hr1['Song'] = [i.strip() for i in hr1['Song']]\n",
    "\n",
    "to_drop = []\n",
    "for i in range(hr1.shape[0]):\n",
    "    if hr1['Singer'][i] in singers:\n",
    "        to_drop.append(i)\n",
    "\n",
    "hr1 = hr1.drop(to_drop)\n",
    "hr1.index = range(len(hr1))\n",
    "\n",
    "hr2['Singer'] = [i.strip() for i in hr2['Singer']]\n",
    "hr2['Song'] = [i.strip() for i in hr2['Song']]\n",
    "\n",
    "to_drop = []\n",
    "for i in range(hr2.shape[0]):\n",
    "    if hr2['Singer'][i] in singers or hr2['Song'][i] in hr1['Song']:\n",
    "        to_drop.append(i)\n",
    "\n",
    "hr2 = hr2.drop(to_drop)\n",
    "hr2.index = range(len(hr2))"
   ]
  },
  {
   "cell_type": "code",
   "execution_count": 50,
   "metadata": {},
   "outputs": [
    {
     "data": {
      "text/html": [
       "<div>\n",
       "<table border=\"1\" class=\"dataframe\">\n",
       "  <thead>\n",
       "    <tr style=\"text-align: right;\">\n",
       "      <th></th>\n",
       "      <th>Singer</th>\n",
       "      <th>Song</th>\n",
       "      <th>Lyrics</th>\n",
       "    </tr>\n",
       "  </thead>\n",
       "  <tbody>\n",
       "    <tr>\n",
       "      <th>0</th>\n",
       "      <td>Sammy Hagar</td>\n",
       "      <td>I Can’t Drive 55</td>\n",
       "      <td>None</td>\n",
       "    </tr>\n",
       "    <tr>\n",
       "      <th>1</th>\n",
       "      <td>Grand Funk Railroad</td>\n",
       "      <td>We’re An American Bandv</td>\n",
       "      <td>None</td>\n",
       "    </tr>\n",
       "    <tr>\n",
       "      <th>2</th>\n",
       "      <td>Buckcherry</td>\n",
       "      <td>Lit Up</td>\n",
       "      <td>Oh yeah You wanna find it C'mon yeah  I'm on ...</td>\n",
       "    </tr>\n",
       "    <tr>\n",
       "      <th>3</th>\n",
       "      <td>The Edgar Winter Group</td>\n",
       "      <td>Frankenstein</td>\n",
       "      <td>Instrumental   \\n</td>\n",
       "    </tr>\n",
       "    <tr>\n",
       "      <th>4</th>\n",
       "      <td>Kansas</td>\n",
       "      <td>Carry On Wayward Son</td>\n",
       "      <td>Carry on my wayward son There'll be peace whe...</td>\n",
       "    </tr>\n",
       "  </tbody>\n",
       "</table>\n",
       "</div>"
      ],
      "text/plain": [
       "                   Singer                     Song  \\\n",
       "0             Sammy Hagar         I Can’t Drive 55   \n",
       "1     Grand Funk Railroad  We’re An American Bandv   \n",
       "2              Buckcherry                   Lit Up   \n",
       "3  The Edgar Winter Group             Frankenstein   \n",
       "4                  Kansas     Carry On Wayward Son   \n",
       "\n",
       "                                              Lyrics  \n",
       "0                                               None  \n",
       "1                                               None  \n",
       "2   Oh yeah You wanna find it C'mon yeah  I'm on ...  \n",
       "3                                 Instrumental   \\n   \n",
       "4   Carry on my wayward son There'll be peace whe...  "
      ]
     },
     "execution_count": 50,
     "metadata": {},
     "output_type": "execute_result"
    }
   ],
   "source": [
    "hr1['Lyrics'] = [get_lyrics(hr1['Singer'][i],hr1['Song'][i]) for i in range(hr1.shape[0])]\n",
    "\n",
    "to_drop = []\n",
    "for i in range(hr1.shape[0]):\n",
    "    if hr1['Lyrics'][i] == 'None' and len(hr1['Lyrics'][i].split()) < 20 :\n",
    "        to_drop.append(i)\n",
    "\n",
    "hr1 = hr1.drop(to_drop)\n",
    "hr1.index = range(len(hr1))\n",
    "hr1.head()"
   ]
  },
  {
   "cell_type": "code",
   "execution_count": 57,
   "metadata": {},
   "outputs": [
    {
     "data": {
      "text/html": [
       "<div>\n",
       "<table border=\"1\" class=\"dataframe\">\n",
       "  <thead>\n",
       "    <tr style=\"text-align: right;\">\n",
       "      <th></th>\n",
       "      <th>Song</th>\n",
       "      <th>Singer</th>\n",
       "      <th>Lyrics</th>\n",
       "    </tr>\n",
       "  </thead>\n",
       "  <tbody>\n",
       "    <tr>\n",
       "      <th>0</th>\n",
       "      <td>American Woman</td>\n",
       "      <td>The Guess Who</td>\n",
       "      <td>American woman gonna mess your mind American ...</td>\n",
       "    </tr>\n",
       "    <tr>\n",
       "      <th>1</th>\n",
       "      <td>Aqualung</td>\n",
       "      <td>Jethro Tull</td>\n",
       "      <td>Sitting on the park bench Eyeing little girls...</td>\n",
       "    </tr>\n",
       "    <tr>\n",
       "      <th>2</th>\n",
       "      <td>Bad to the Bone</td>\n",
       "      <td>George Thorogood</td>\n",
       "      <td>Now on the day I was born The nurses all gath...</td>\n",
       "    </tr>\n",
       "    <tr>\n",
       "      <th>3</th>\n",
       "      <td>Barracuda</td>\n",
       "      <td>Heart</td>\n",
       "      <td>So this ain't the end I saw you again Today I...</td>\n",
       "    </tr>\n",
       "    <tr>\n",
       "      <th>4</th>\n",
       "      <td>Basket Case</td>\n",
       "      <td>Green Day</td>\n",
       "      <td>Do you have the time to listen to me whine Ab...</td>\n",
       "    </tr>\n",
       "  </tbody>\n",
       "</table>\n",
       "</div>"
      ],
      "text/plain": [
       "              Song            Singer  \\\n",
       "0   American Woman     The Guess Who   \n",
       "1         Aqualung       Jethro Tull   \n",
       "2  Bad to the Bone  George Thorogood   \n",
       "3        Barracuda             Heart   \n",
       "4      Basket Case         Green Day   \n",
       "\n",
       "                                              Lyrics  \n",
       "0   American woman gonna mess your mind American ...  \n",
       "1   Sitting on the park bench Eyeing little girls...  \n",
       "2   Now on the day I was born The nurses all gath...  \n",
       "3   So this ain't the end I saw you again Today I...  \n",
       "4   Do you have the time to listen to me whine Ab...  "
      ]
     },
     "execution_count": 57,
     "metadata": {},
     "output_type": "execute_result"
    }
   ],
   "source": [
    "hr2['Lyrics'] = [get_lyrics(hr2['Singer'][i],hr2['Song'][i]) for i in range(hr2.shape[0])]\n",
    "\n",
    "to_drop = []\n",
    "for i in range(hr2.shape[0]):\n",
    "    if hr2['Lyrics'][i] == 'None' and len(hr2['Lyrics'][i].split()) < 20:\n",
    "        to_drop.append(i)\n",
    "\n",
    "hr2 = hr2.drop(to_drop)\n",
    "hr2.index = range(len(hr2))\n",
    "hr2.head()"
   ]
  },
  {
   "cell_type": "code",
   "execution_count": 58,
   "metadata": {},
   "outputs": [
    {
     "data": {
      "text/plain": [
       "(134, 3)"
      ]
     },
     "execution_count": 58,
     "metadata": {},
     "output_type": "execute_result"
    }
   ],
   "source": [
    "hr = pd.concat([hr1,hr2])\n",
    "hr.shape"
   ]
  },
  {
   "cell_type": "code",
   "execution_count": 59,
   "metadata": {},
   "outputs": [
    {
     "data": {
      "text/html": [
       "<div>\n",
       "<table border=\"1\" class=\"dataframe\">\n",
       "  <thead>\n",
       "    <tr style=\"text-align: right;\">\n",
       "      <th></th>\n",
       "      <th>Song</th>\n",
       "      <th>Singer</th>\n",
       "    </tr>\n",
       "  </thead>\n",
       "  <tbody>\n",
       "    <tr>\n",
       "      <th>0</th>\n",
       "      <td>Have You Ever Really Loved A Woman?</td>\n",
       "      <td>Bryan Adams</td>\n",
       "    </tr>\n",
       "    <tr>\n",
       "      <th>1</th>\n",
       "      <td>All Out of Love</td>\n",
       "      <td>Air Supply</td>\n",
       "    </tr>\n",
       "    <tr>\n",
       "      <th>2</th>\n",
       "      <td>New Kid In Town</td>\n",
       "      <td>Eagles</td>\n",
       "    </tr>\n",
       "    <tr>\n",
       "      <th>3</th>\n",
       "      <td>Lost in Love</td>\n",
       "      <td>Air Supply</td>\n",
       "    </tr>\n",
       "    <tr>\n",
       "      <th>4</th>\n",
       "      <td>Biggest Part of Me</td>\n",
       "      <td>Ambrosia</td>\n",
       "    </tr>\n",
       "  </tbody>\n",
       "</table>\n",
       "</div>"
      ],
      "text/plain": [
       "                                  Song       Singer\n",
       "0  Have You Ever Really Loved A Woman?  Bryan Adams\n",
       "1                      All Out of Love   Air Supply\n",
       "2                      New Kid In Town       Eagles\n",
       "3                         Lost in Love   Air Supply\n",
       "4                   Biggest Part of Me     Ambrosia"
      ]
     },
     "execution_count": 59,
     "metadata": {},
     "output_type": "execute_result"
    }
   ],
   "source": [
    "import os\n",
    "os.chdir('E:\\\\Lyrics of 50 bands')\n",
    "import pandas as pd\n",
    "\n",
    "sr1 = pd.read_csv('soft rock 1.csv')\n",
    "sr1.head()"
   ]
  },
  {
   "cell_type": "code",
   "execution_count": 61,
   "metadata": {},
   "outputs": [
    {
     "data": {
      "text/html": [
       "<div>\n",
       "<table border=\"1\" class=\"dataframe\">\n",
       "  <thead>\n",
       "    <tr style=\"text-align: right;\">\n",
       "      <th></th>\n",
       "      <th>Song</th>\n",
       "      <th>Singer</th>\n",
       "    </tr>\n",
       "  </thead>\n",
       "  <tbody>\n",
       "    <tr>\n",
       "      <th>0</th>\n",
       "      <td>Have You Ever Really Loved A Woman?</td>\n",
       "      <td>Bryan Adams</td>\n",
       "    </tr>\n",
       "    <tr>\n",
       "      <th>1</th>\n",
       "      <td>All Out of Love</td>\n",
       "      <td>Air Supply</td>\n",
       "    </tr>\n",
       "    <tr>\n",
       "      <th>2</th>\n",
       "      <td>Lost in Love</td>\n",
       "      <td>Air Supply</td>\n",
       "    </tr>\n",
       "    <tr>\n",
       "      <th>3</th>\n",
       "      <td>Biggest Part of Me</td>\n",
       "      <td>Ambrosia</td>\n",
       "    </tr>\n",
       "    <tr>\n",
       "      <th>4</th>\n",
       "      <td>Time</td>\n",
       "      <td>The Alan Parsons Project</td>\n",
       "    </tr>\n",
       "  </tbody>\n",
       "</table>\n",
       "</div>"
      ],
      "text/plain": [
       "                                  Song                    Singer\n",
       "0  Have You Ever Really Loved A Woman?               Bryan Adams\n",
       "1                      All Out of Love                Air Supply\n",
       "2                         Lost in Love                Air Supply\n",
       "3                   Biggest Part of Me                  Ambrosia\n",
       "4                                 Time  The Alan Parsons Project"
      ]
     },
     "execution_count": 61,
     "metadata": {},
     "output_type": "execute_result"
    }
   ],
   "source": [
    "sr1['Singer'] = [i.strip() for i in sr1['Singer']]\n",
    "sr1['Song'] = [i.strip() for i in sr1['Song']]\n",
    "\n",
    "to_drop = []\n",
    "for i in range(sr1.shape[0]):\n",
    "    if sr1['Singer'][i] in singers:\n",
    "        to_drop.append(i)\n",
    "\n",
    "sr1 = sr1.drop(to_drop)\n",
    "sr1.index = range(len(sr1))\n",
    "\n",
    "sr1.head()"
   ]
  },
  {
   "cell_type": "code",
   "execution_count": 88,
   "metadata": {},
   "outputs": [
    {
     "data": {
      "text/html": [
       "<div>\n",
       "<table border=\"1\" class=\"dataframe\">\n",
       "  <thead>\n",
       "    <tr style=\"text-align: right;\">\n",
       "      <th></th>\n",
       "      <th>Song</th>\n",
       "      <th>Singer</th>\n",
       "      <th>Lyrics</th>\n",
       "    </tr>\n",
       "  </thead>\n",
       "  <tbody>\n",
       "    <tr>\n",
       "      <th>0</th>\n",
       "      <td>Have You Ever Really Loved A Woman?</td>\n",
       "      <td>Bryan Adams</td>\n",
       "      <td>To really love a woman To understand her - Yo...</td>\n",
       "    </tr>\n",
       "    <tr>\n",
       "      <th>1</th>\n",
       "      <td>All Out of Love</td>\n",
       "      <td>Air Supply</td>\n",
       "      <td>I’m lying alone with my head on the phone Thi...</td>\n",
       "    </tr>\n",
       "    <tr>\n",
       "      <th>2</th>\n",
       "      <td>Lost in Love</td>\n",
       "      <td>Air Supply</td>\n",
       "      <td>I realize the best part of love is the thinne...</td>\n",
       "    </tr>\n",
       "    <tr>\n",
       "      <th>3</th>\n",
       "      <td>Biggest Part of Me</td>\n",
       "      <td>Ambrosia</td>\n",
       "      <td>Yeah   (Sunrise)  There's a new sun a-risin' ...</td>\n",
       "    </tr>\n",
       "    <tr>\n",
       "      <th>4</th>\n",
       "      <td>Time</td>\n",
       "      <td>The Alan Parsons Project</td>\n",
       "      <td>Time, flowing like a river Time, beckoning me...</td>\n",
       "    </tr>\n",
       "  </tbody>\n",
       "</table>\n",
       "</div>"
      ],
      "text/plain": [
       "                                  Song                    Singer  \\\n",
       "0  Have You Ever Really Loved A Woman?               Bryan Adams   \n",
       "1                      All Out of Love                Air Supply   \n",
       "2                         Lost in Love                Air Supply   \n",
       "3                   Biggest Part of Me                  Ambrosia   \n",
       "4                                 Time  The Alan Parsons Project   \n",
       "\n",
       "                                              Lyrics  \n",
       "0   To really love a woman To understand her - Yo...  \n",
       "1   I’m lying alone with my head on the phone Thi...  \n",
       "2   I realize the best part of love is the thinne...  \n",
       "3   Yeah   (Sunrise)  There's a new sun a-risin' ...  \n",
       "4   Time, flowing like a river Time, beckoning me...  "
      ]
     },
     "execution_count": 88,
     "metadata": {},
     "output_type": "execute_result"
    }
   ],
   "source": [
    "sr1['Lyrics'] = ['None']*len(sr1)\n",
    "for i in range(len(sr1)):\n",
    "    sr1['Lyrics'][i] = get_lyrics(sr1['Singer'][i],sr1['Song'][i]) \n",
    "\n",
    "to_drop = []\n",
    "for i in range(sr1.shape[0]):\n",
    "    if sr1['Lyrics'][i] == 'None' and len(sr1['Lyrics'][i].split()) < 20 :\n",
    "        to_drop.append(i)\n",
    "\n",
    "sr1 = sr1.drop(to_drop)\n",
    "sr1.index = range(len(sr1))\n",
    "sr1.head()"
   ]
  },
  {
   "cell_type": "code",
   "execution_count": 89,
   "metadata": {},
   "outputs": [
    {
     "data": {
      "text/plain": [
       "(128, 3)"
      ]
     },
     "execution_count": 89,
     "metadata": {},
     "output_type": "execute_result"
    }
   ],
   "source": [
    "sr1.shape"
   ]
  },
  {
   "cell_type": "code",
   "execution_count": 91,
   "metadata": {},
   "outputs": [],
   "source": [
    "hr['Genre'] = ['hard']*len(hr)\n",
    "sr1['Genre'] = ['soft']*len(sr1)"
   ]
  },
  {
   "cell_type": "code",
   "execution_count": 92,
   "metadata": {
    "collapsed": true
   },
   "outputs": [],
   "source": [
    "df = pd.concat([hr,sr1])"
   ]
  },
  {
   "cell_type": "code",
   "execution_count": 96,
   "metadata": {},
   "outputs": [
    {
     "data": {
      "text/html": [
       "<div>\n",
       "<table border=\"1\" class=\"dataframe\">\n",
       "  <thead>\n",
       "    <tr style=\"text-align: right;\">\n",
       "      <th></th>\n",
       "      <th>Genre</th>\n",
       "      <th>Lyrics</th>\n",
       "      <th>Singer</th>\n",
       "      <th>Song</th>\n",
       "    </tr>\n",
       "  </thead>\n",
       "  <tbody>\n",
       "    <tr>\n",
       "      <th>257</th>\n",
       "      <td>soft</td>\n",
       "      <td>If only you believe like I believe, baby (If ...</td>\n",
       "      <td>Jefferson Starship</td>\n",
       "      <td>Miracles</td>\n",
       "    </tr>\n",
       "    <tr>\n",
       "      <th>258</th>\n",
       "      <td>soft</td>\n",
       "      <td>I got the call today, I didn't wanna hear But...</td>\n",
       "      <td>Don Henley</td>\n",
       "      <td>The Heart of the Matter</td>\n",
       "    </tr>\n",
       "    <tr>\n",
       "      <th>259</th>\n",
       "      <td>soft</td>\n",
       "      <td>I'm tired of playing on the team It seems I d...</td>\n",
       "      <td>Hall &amp; Oates</td>\n",
       "      <td>One on One</td>\n",
       "    </tr>\n",
       "    <tr>\n",
       "      <th>260</th>\n",
       "      <td>soft</td>\n",
       "      <td>Born in the valley And raised in the trees Of...</td>\n",
       "      <td>Dan Fogelberg</td>\n",
       "      <td>Run For the Roses</td>\n",
       "    </tr>\n",
       "    <tr>\n",
       "      <th>261</th>\n",
       "      <td>soft</td>\n",
       "      <td>Spending all my nights, all my money going ou...</td>\n",
       "      <td>Player</td>\n",
       "      <td>Baby Come Back</td>\n",
       "    </tr>\n",
       "  </tbody>\n",
       "</table>\n",
       "</div>"
      ],
      "text/plain": [
       "    Genre                                             Lyrics  \\\n",
       "257  soft   If only you believe like I believe, baby (If ...   \n",
       "258  soft   I got the call today, I didn't wanna hear But...   \n",
       "259  soft   I'm tired of playing on the team It seems I d...   \n",
       "260  soft   Born in the valley And raised in the trees Of...   \n",
       "261  soft   Spending all my nights, all my money going ou...   \n",
       "\n",
       "                 Singer                     Song  \n",
       "257  Jefferson Starship                 Miracles  \n",
       "258          Don Henley  The Heart of the Matter  \n",
       "259        Hall & Oates               One on One  \n",
       "260       Dan Fogelberg        Run For the Roses  \n",
       "261              Player           Baby Come Back  "
      ]
     },
     "execution_count": 96,
     "metadata": {},
     "output_type": "execute_result"
    }
   ],
   "source": [
    "df.index = range(len(df))\n",
    "df.tail()"
   ]
  },
  {
   "cell_type": "code",
   "execution_count": 102,
   "metadata": {
    "collapsed": true
   },
   "outputs": [],
   "source": [
    "df.to_csv('hs_train.csv')"
   ]
  },
  {
   "cell_type": "code",
   "execution_count": 99,
   "metadata": {},
   "outputs": [
    {
     "data": {
      "text/html": [
       "<div>\n",
       "<table border=\"1\" class=\"dataframe\">\n",
       "  <thead>\n",
       "    <tr style=\"text-align: right;\">\n",
       "      <th></th>\n",
       "      <th>Genre</th>\n",
       "      <th>Lyrics</th>\n",
       "      <th>Singer</th>\n",
       "      <th>Song</th>\n",
       "    </tr>\n",
       "  </thead>\n",
       "  <tbody>\n",
       "    <tr>\n",
       "      <th>0</th>\n",
       "      <td>hard</td>\n",
       "      <td>Oh yeah You wanna find it C'mon yeah  I'm on ...</td>\n",
       "      <td>Buckcherry</td>\n",
       "      <td>Lit Up</td>\n",
       "    </tr>\n",
       "    <tr>\n",
       "      <th>1</th>\n",
       "      <td>hard</td>\n",
       "      <td>Carry on my wayward son There'll be peace whe...</td>\n",
       "      <td>Kansas</td>\n",
       "      <td>Carry On Wayward Son</td>\n",
       "    </tr>\n",
       "    <tr>\n",
       "      <th>2</th>\n",
       "      <td>hard</td>\n",
       "      <td>When dreaming I'm guided to another world Tim...</td>\n",
       "      <td>Creed</td>\n",
       "      <td>Higher</td>\n",
       "    </tr>\n",
       "    <tr>\n",
       "      <th>3</th>\n",
       "      <td>hard</td>\n",
       "      <td>Can't explain all the feelings that you're ma...</td>\n",
       "      <td>The Darkness</td>\n",
       "      <td>I Believe In A Thing Called Love</td>\n",
       "    </tr>\n",
       "    <tr>\n",
       "      <th>4</th>\n",
       "      <td>hard</td>\n",
       "      <td>Turn it up Ooh!  Yeah!  I'm working hard, you...</td>\n",
       "      <td>Autograph</td>\n",
       "      <td>Turn Up The Radio</td>\n",
       "    </tr>\n",
       "  </tbody>\n",
       "</table>\n",
       "</div>"
      ],
      "text/plain": [
       "  Genre                                             Lyrics        Singer  \\\n",
       "0  hard   Oh yeah You wanna find it C'mon yeah  I'm on ...    Buckcherry   \n",
       "1  hard   Carry on my wayward son There'll be peace whe...        Kansas   \n",
       "2  hard   When dreaming I'm guided to another world Tim...         Creed   \n",
       "3  hard   Can't explain all the feelings that you're ma...  The Darkness   \n",
       "4  hard   Turn it up Ooh!  Yeah!  I'm working hard, you...     Autograph   \n",
       "\n",
       "                               Song  \n",
       "0                            Lit Up  \n",
       "1              Carry On Wayward Son  \n",
       "2                            Higher  \n",
       "3  I Believe In A Thing Called Love  \n",
       "4                 Turn Up The Radio  "
      ]
     },
     "execution_count": 99,
     "metadata": {},
     "output_type": "execute_result"
    }
   ],
   "source": [
    "to_drop = []\n",
    "for i in range(df.shape[0]):\n",
    "    if len(df['Lyrics'][i].split()) < 20:\n",
    "        to_drop.append(i)\n",
    "df = df.drop(to_drop)\n",
    "df.index = range(len(df))\n",
    "df.head()"
   ]
  },
  {
   "cell_type": "code",
   "execution_count": 101,
   "metadata": {},
   "outputs": [
    {
     "data": {
      "text/plain": [
       "(260, 4)"
      ]
     },
     "execution_count": 101,
     "metadata": {},
     "output_type": "execute_result"
    }
   ],
   "source": [
    "df.shape"
   ]
  },
  {
   "cell_type": "code",
   "execution_count": 110,
   "metadata": {},
   "outputs": [],
   "source": [
    "# load train\n",
    "train  = [tuple([df['Lyrics'][i].decode(\"utf8\"),df['Genre'][i]]) for i in range(len(df))]"
   ]
  },
  {
   "cell_type": "code",
   "execution_count": 108,
   "metadata": {},
   "outputs": [],
   "source": [
    "from textblob.classifiers import NaiveBayesClassifier"
   ]
  },
  {
   "cell_type": "code",
   "execution_count": 111,
   "metadata": {},
   "outputs": [],
   "source": [
    "cl = NaiveBayesClassifier(train)"
   ]
  },
  {
   "cell_type": "code",
   "execution_count": 113,
   "metadata": {},
   "outputs": [
    {
     "data": {
      "text/html": [
       "<div>\n",
       "<table border=\"1\" class=\"dataframe\">\n",
       "  <thead>\n",
       "    <tr style=\"text-align: right;\">\n",
       "      <th></th>\n",
       "      <th>Singer</th>\n",
       "      <th>Song</th>\n",
       "      <th>Genre</th>\n",
       "    </tr>\n",
       "  </thead>\n",
       "  <tbody>\n",
       "    <tr>\n",
       "      <th>0</th>\n",
       "      <td>Thin Lizzy</td>\n",
       "      <td>The Boys are Back in Town</td>\n",
       "      <td>hard</td>\n",
       "    </tr>\n",
       "    <tr>\n",
       "      <th>1</th>\n",
       "      <td>Mountain</td>\n",
       "      <td>Mississippi Queen</td>\n",
       "      <td>hard</td>\n",
       "    </tr>\n",
       "    <tr>\n",
       "      <th>2</th>\n",
       "      <td>Blind Melon</td>\n",
       "      <td>No Rain</td>\n",
       "      <td>hard</td>\n",
       "    </tr>\n",
       "    <tr>\n",
       "      <th>3</th>\n",
       "      <td>Steppenwolf</td>\n",
       "      <td>Magic Carpet Ride</td>\n",
       "      <td>hard</td>\n",
       "    </tr>\n",
       "    <tr>\n",
       "      <th>4</th>\n",
       "      <td>Soundgarden</td>\n",
       "      <td>Spoonman</td>\n",
       "      <td>hard</td>\n",
       "    </tr>\n",
       "  </tbody>\n",
       "</table>\n",
       "</div>"
      ],
      "text/plain": [
       "        Singer                       Song Genre\n",
       "0   Thin Lizzy  The Boys are Back in Town  hard\n",
       "1     Mountain          Mississippi Queen  hard\n",
       "2  Blind Melon                    No Rain  hard\n",
       "3  Steppenwolf          Magic Carpet Ride  hard\n",
       "4  Soundgarden                   Spoonman  hard"
      ]
     },
     "execution_count": 113,
     "metadata": {},
     "output_type": "execute_result"
    }
   ],
   "source": [
    "hs2 = pd.read_csv('hs_test.csv')\n",
    "hs2.head()"
   ]
  },
  {
   "cell_type": "code",
   "execution_count": 115,
   "metadata": {},
   "outputs": [],
   "source": [
    "hs2['Lyrics'] = ['None']*len(hs2)\n",
    "for i in range(len(hs2)):\n",
    "    hs2['Lyrics'][i] = get_lyrics(hs2['Singer'][i],hs2['Song'][i]).decode(\"utf8\") "
   ]
  },
  {
   "cell_type": "code",
   "execution_count": 122,
   "metadata": {},
   "outputs": [
    {
     "data": {
      "text/html": [
       "<div>\n",
       "<table border=\"1\" class=\"dataframe\">\n",
       "  <thead>\n",
       "    <tr style=\"text-align: right;\">\n",
       "      <th></th>\n",
       "      <th>Singer</th>\n",
       "      <th>Song</th>\n",
       "      <th>Genre</th>\n",
       "      <th>Lyrics</th>\n",
       "    </tr>\n",
       "  </thead>\n",
       "  <tbody>\n",
       "    <tr>\n",
       "      <th>0</th>\n",
       "      <td>Thin Lizzy</td>\n",
       "      <td>The Boys are Back in Town</td>\n",
       "      <td>hard</td>\n",
       "      <td>Guess who just got back today Them wild-eyed ...</td>\n",
       "    </tr>\n",
       "    <tr>\n",
       "      <th>1</th>\n",
       "      <td>Mountain</td>\n",
       "      <td>Mississippi Queen</td>\n",
       "      <td>hard</td>\n",
       "      <td>Mississippi Queen, if you know what I mean Mi...</td>\n",
       "    </tr>\n",
       "    <tr>\n",
       "      <th>2</th>\n",
       "      <td>Blind Melon</td>\n",
       "      <td>No Rain</td>\n",
       "      <td>hard</td>\n",
       "      <td>Ooh, hoo hoo hoo Hoo hoo hoo  All I can say i...</td>\n",
       "    </tr>\n",
       "    <tr>\n",
       "      <th>3</th>\n",
       "      <td>Steppenwolf</td>\n",
       "      <td>Magic Carpet Ride</td>\n",
       "      <td>hard</td>\n",
       "      <td>I like to dream Yes, yes, right between my so...</td>\n",
       "    </tr>\n",
       "    <tr>\n",
       "      <th>4</th>\n",
       "      <td>Soundgarden</td>\n",
       "      <td>Spoonman</td>\n",
       "      <td>hard</td>\n",
       "      <td>Oh Mmm  Feel the rhythm with your hands ( Ste...</td>\n",
       "    </tr>\n",
       "  </tbody>\n",
       "</table>\n",
       "</div>"
      ],
      "text/plain": [
       "        Singer                       Song Genre  \\\n",
       "0   Thin Lizzy  The Boys are Back in Town  hard   \n",
       "1     Mountain          Mississippi Queen  hard   \n",
       "2  Blind Melon                    No Rain  hard   \n",
       "3  Steppenwolf          Magic Carpet Ride  hard   \n",
       "4  Soundgarden                   Spoonman  hard   \n",
       "\n",
       "                                              Lyrics  \n",
       "0   Guess who just got back today Them wild-eyed ...  \n",
       "1   Mississippi Queen, if you know what I mean Mi...  \n",
       "2   Ooh, hoo hoo hoo Hoo hoo hoo  All I can say i...  \n",
       "3   I like to dream Yes, yes, right between my so...  \n",
       "4   Oh Mmm  Feel the rhythm with your hands ( Ste...  "
      ]
     },
     "execution_count": 122,
     "metadata": {},
     "output_type": "execute_result"
    }
   ],
   "source": [
    "to_drop = []\n",
    "for i in range(len(hs2)):\n",
    "    if hs2['Lyrics'][i] == 'None' and len(hs2['Lyrics'][i].split()) < 20 and (hs2['Singer'][i] not in df['Singer'] or hs2['Song'] not in df['Song']) :\n",
    "        to_drop.append(i)\n",
    "\n",
    "hs2 = hs2.drop(to_drop)\n",
    "hs2.index = range(len(hs2))\n",
    "hs2.head()"
   ]
  },
  {
   "cell_type": "code",
   "execution_count": 121,
   "metadata": {
    "collapsed": true
   },
   "outputs": [],
   "source": [
    "test  = [tuple([hs2['Lyrics'][i],hs2['Genre'][i]]) for i in range(len(hs2))]"
   ]
  },
  {
   "cell_type": "code",
   "execution_count": 125,
   "metadata": {
    "collapsed": true
   },
   "outputs": [],
   "source": [
    "results = []\n",
    "for lyric in hs2['Lyrics']:\n",
    "    results.append(cl.classify(lyric))"
   ]
  },
  {
   "cell_type": "code",
   "execution_count": 127,
   "metadata": {},
   "outputs": [],
   "source": [
    "hs2['prediction'] = results"
   ]
  },
  {
   "cell_type": "code",
   "execution_count": 128,
   "metadata": {},
   "outputs": [
    {
     "data": {
      "text/html": [
       "<div>\n",
       "<table border=\"1\" class=\"dataframe\">\n",
       "  <thead>\n",
       "    <tr style=\"text-align: right;\">\n",
       "      <th></th>\n",
       "      <th>Singer</th>\n",
       "      <th>Song</th>\n",
       "      <th>Genre</th>\n",
       "      <th>Lyrics</th>\n",
       "      <th>prediction</th>\n",
       "    </tr>\n",
       "  </thead>\n",
       "  <tbody>\n",
       "    <tr>\n",
       "      <th>0</th>\n",
       "      <td>Thin Lizzy</td>\n",
       "      <td>The Boys are Back in Town</td>\n",
       "      <td>hard</td>\n",
       "      <td>Guess who just got back today Them wild-eyed ...</td>\n",
       "      <td>soft</td>\n",
       "    </tr>\n",
       "    <tr>\n",
       "      <th>1</th>\n",
       "      <td>Mountain</td>\n",
       "      <td>Mississippi Queen</td>\n",
       "      <td>hard</td>\n",
       "      <td>Mississippi Queen, if you know what I mean Mi...</td>\n",
       "      <td>hard</td>\n",
       "    </tr>\n",
       "    <tr>\n",
       "      <th>2</th>\n",
       "      <td>Blind Melon</td>\n",
       "      <td>No Rain</td>\n",
       "      <td>hard</td>\n",
       "      <td>Ooh, hoo hoo hoo Hoo hoo hoo  All I can say i...</td>\n",
       "      <td>soft</td>\n",
       "    </tr>\n",
       "    <tr>\n",
       "      <th>3</th>\n",
       "      <td>Steppenwolf</td>\n",
       "      <td>Magic Carpet Ride</td>\n",
       "      <td>hard</td>\n",
       "      <td>I like to dream Yes, yes, right between my so...</td>\n",
       "      <td>hard</td>\n",
       "    </tr>\n",
       "    <tr>\n",
       "      <th>4</th>\n",
       "      <td>Soundgarden</td>\n",
       "      <td>Spoonman</td>\n",
       "      <td>hard</td>\n",
       "      <td>Oh Mmm  Feel the rhythm with your hands ( Ste...</td>\n",
       "      <td>hard</td>\n",
       "    </tr>\n",
       "    <tr>\n",
       "      <th>5</th>\n",
       "      <td>Rob Zombie</td>\n",
       "      <td>Dragula</td>\n",
       "      <td>hard</td>\n",
       "      <td>\"Superstition, fear, and jealousy.\"  Dead I a...</td>\n",
       "      <td>hard</td>\n",
       "    </tr>\n",
       "    <tr>\n",
       "      <th>6</th>\n",
       "      <td>Ted Nugent</td>\n",
       "      <td>Stranglehold</td>\n",
       "      <td>hard</td>\n",
       "      <td>Here I come again now, baby Like a dog in hea...</td>\n",
       "      <td>hard</td>\n",
       "    </tr>\n",
       "    <tr>\n",
       "      <th>7</th>\n",
       "      <td>The Cult</td>\n",
       "      <td>She Sells Sanctuary</td>\n",
       "      <td>hard</td>\n",
       "      <td>Oh the heads that turn Make my back burn Oh t...</td>\n",
       "      <td>hard</td>\n",
       "    </tr>\n",
       "    <tr>\n",
       "      <th>8</th>\n",
       "      <td>Twisted Sister</td>\n",
       "      <td>I Wanna Rock</td>\n",
       "      <td>hard</td>\n",
       "      <td>I wanna rock (Rock) I wanna rock (Rock) I wan...</td>\n",
       "      <td>soft</td>\n",
       "    </tr>\n",
       "    <tr>\n",
       "      <th>9</th>\n",
       "      <td>Megadeth</td>\n",
       "      <td>Symphony of Destruction</td>\n",
       "      <td>hard</td>\n",
       "      <td>You take a mortal man And put him in control ...</td>\n",
       "      <td>hard</td>\n",
       "    </tr>\n",
       "    <tr>\n",
       "      <th>10</th>\n",
       "      <td>Quiet Riot</td>\n",
       "      <td>Cum on Feel the Noize</td>\n",
       "      <td>hard</td>\n",
       "      <td>Come on, feel the noise Girls, rock your boys...</td>\n",
       "      <td>hard</td>\n",
       "    </tr>\n",
       "    <tr>\n",
       "      <th>11</th>\n",
       "      <td>Dead Kennedys</td>\n",
       "      <td>Holiday in Cambodia</td>\n",
       "      <td>hard</td>\n",
       "      <td>So you been to school for a year or two And y...</td>\n",
       "      <td>hard</td>\n",
       "    </tr>\n",
       "    <tr>\n",
       "      <th>12</th>\n",
       "      <td>Judas Priest</td>\n",
       "      <td>Living After Midnight</td>\n",
       "      <td>hard</td>\n",
       "      <td>Livin' after midnight Rockin' to the dawn Lov...</td>\n",
       "      <td>soft</td>\n",
       "    </tr>\n",
       "    <tr>\n",
       "      <th>13</th>\n",
       "      <td>KISS</td>\n",
       "      <td>Detroit Rock City</td>\n",
       "      <td>hard</td>\n",
       "      <td>I feel uptight on a Saturday night Nine o'clo...</td>\n",
       "      <td>hard</td>\n",
       "    </tr>\n",
       "    <tr>\n",
       "      <th>14</th>\n",
       "      <td>Green Day</td>\n",
       "      <td>Basket Case</td>\n",
       "      <td>hard</td>\n",
       "      <td>Do you have the time to listen to me whine Ab...</td>\n",
       "      <td>hard</td>\n",
       "    </tr>\n",
       "    <tr>\n",
       "      <th>15</th>\n",
       "      <td>Foo Fighters</td>\n",
       "      <td>Everlong</td>\n",
       "      <td>hard</td>\n",
       "      <td>Hello, I've waited here for you Everlong Toni...</td>\n",
       "      <td>soft</td>\n",
       "    </tr>\n",
       "    <tr>\n",
       "      <th>16</th>\n",
       "      <td>White Zombie</td>\n",
       "      <td>More Human Than Human</td>\n",
       "      <td>hard</td>\n",
       "      <td>Yeah, I am the astro-creep A demolition style...</td>\n",
       "      <td>hard</td>\n",
       "    </tr>\n",
       "    <tr>\n",
       "      <th>17</th>\n",
       "      <td>Anthrax</td>\n",
       "      <td>Madhouse</td>\n",
       "      <td>hard</td>\n",
       "      <td>It's time for your medication, Mr. Brown Oohh...</td>\n",
       "      <td>hard</td>\n",
       "    </tr>\n",
       "    <tr>\n",
       "      <th>18</th>\n",
       "      <td>Jefferson Airplane</td>\n",
       "      <td>White Rabbit</td>\n",
       "      <td>hard</td>\n",
       "      <td>One pill makes you larger And one pill makes ...</td>\n",
       "      <td>hard</td>\n",
       "    </tr>\n",
       "    <tr>\n",
       "      <th>19</th>\n",
       "      <td>New York Dolls</td>\n",
       "      <td>Personality Crisis</td>\n",
       "      <td>hard</td>\n",
       "      <td>Woah, yeah yeah yeah No, no, no, no, no, no, ...</td>\n",
       "      <td>soft</td>\n",
       "    </tr>\n",
       "    <tr>\n",
       "      <th>20</th>\n",
       "      <td>Thin Lizzy</td>\n",
       "      <td>Jailbreak</td>\n",
       "      <td>hard</td>\n",
       "      <td>Tonight there's gonna be a jailbreak Somewher...</td>\n",
       "      <td>hard</td>\n",
       "    </tr>\n",
       "    <tr>\n",
       "      <th>21</th>\n",
       "      <td>Stone Temple Pilots</td>\n",
       "      <td>Plush</td>\n",
       "      <td>hard</td>\n",
       "      <td>And I feel that time's a wasted go So where y...</td>\n",
       "      <td>soft</td>\n",
       "    </tr>\n",
       "    <tr>\n",
       "      <th>22</th>\n",
       "      <td>Tool</td>\n",
       "      <td>Schism</td>\n",
       "      <td>hard</td>\n",
       "      <td>I know the pieces fit 'cause I watched them f...</td>\n",
       "      <td>hard</td>\n",
       "    </tr>\n",
       "    <tr>\n",
       "      <th>23</th>\n",
       "      <td>Faith No More</td>\n",
       "      <td>Epic</td>\n",
       "      <td>hard</td>\n",
       "      <td>Can you feel it, see it, hear it today? If yo...</td>\n",
       "      <td>hard</td>\n",
       "    </tr>\n",
       "    <tr>\n",
       "      <th>24</th>\n",
       "      <td>Iron Maiden</td>\n",
       "      <td>Run to the Hills</td>\n",
       "      <td>hard</td>\n",
       "      <td>White man came across the sea He brought us p...</td>\n",
       "      <td>hard</td>\n",
       "    </tr>\n",
       "    <tr>\n",
       "      <th>25</th>\n",
       "      <td>Slayer</td>\n",
       "      <td>Raining Blood</td>\n",
       "      <td>hard</td>\n",
       "      <td>Trapped in purgatory A lifeless object, alive...</td>\n",
       "      <td>hard</td>\n",
       "    </tr>\n",
       "    <tr>\n",
       "      <th>26</th>\n",
       "      <td>Megadeth</td>\n",
       "      <td>Peace Sells</td>\n",
       "      <td>hard</td>\n",
       "      <td>What do you mean I don't believe in God? Talk...</td>\n",
       "      <td>hard</td>\n",
       "    </tr>\n",
       "    <tr>\n",
       "      <th>27</th>\n",
       "      <td>Pantera</td>\n",
       "      <td>Walk</td>\n",
       "      <td>hard</td>\n",
       "      <td>Can't you see I'm easily bothered by persiste...</td>\n",
       "      <td>soft</td>\n",
       "    </tr>\n",
       "    <tr>\n",
       "      <th>28</th>\n",
       "      <td>Ted Nugent</td>\n",
       "      <td>Cat Scratch Fever</td>\n",
       "      <td>hard</td>\n",
       "      <td>Well, I don't know where they come from but t...</td>\n",
       "      <td>hard</td>\n",
       "    </tr>\n",
       "    <tr>\n",
       "      <th>29</th>\n",
       "      <td>Jefferson Airplane</td>\n",
       "      <td>Somebody to Love</td>\n",
       "      <td>hard</td>\n",
       "      <td>When the truth is found to be lies And all th...</td>\n",
       "      <td>hard</td>\n",
       "    </tr>\n",
       "    <tr>\n",
       "      <th>...</th>\n",
       "      <td>...</td>\n",
       "      <td>...</td>\n",
       "      <td>...</td>\n",
       "      <td>...</td>\n",
       "      <td>...</td>\n",
       "    </tr>\n",
       "    <tr>\n",
       "      <th>45</th>\n",
       "      <td>Black Sabbath</td>\n",
       "      <td>Iron Man</td>\n",
       "      <td>hard</td>\n",
       "      <td>I am Iron Man   Has he lost his mind? Can he...</td>\n",
       "      <td>hard</td>\n",
       "    </tr>\n",
       "    <tr>\n",
       "      <th>46</th>\n",
       "      <td>Ace</td>\n",
       "      <td>How Long</td>\n",
       "      <td>soft</td>\n",
       "      <td>How long has this been going on? How long has...</td>\n",
       "      <td>soft</td>\n",
       "    </tr>\n",
       "    <tr>\n",
       "      <th>47</th>\n",
       "      <td>Bryan Adams</td>\n",
       "      <td>Cloud Number Nine</td>\n",
       "      <td>soft</td>\n",
       "      <td>Clue number one was when you knocked on my do...</td>\n",
       "      <td>soft</td>\n",
       "    </tr>\n",
       "    <tr>\n",
       "      <th>48</th>\n",
       "      <td>Bryan Adams</td>\n",
       "      <td>Please Forgive Me</td>\n",
       "      <td>soft</td>\n",
       "      <td>Still feels like our first night together Fee...</td>\n",
       "      <td>soft</td>\n",
       "    </tr>\n",
       "    <tr>\n",
       "      <th>49</th>\n",
       "      <td>The Alan Parsons Project</td>\n",
       "      <td>Eye in the Sky</td>\n",
       "      <td>soft</td>\n",
       "      <td>Don't think sorry is easily said Don't try tu...</td>\n",
       "      <td>soft</td>\n",
       "    </tr>\n",
       "    <tr>\n",
       "      <th>50</th>\n",
       "      <td>Orleans</td>\n",
       "      <td>Dance With Me</td>\n",
       "      <td>soft</td>\n",
       "      <td>Dance with me I want to be your partner Can't...</td>\n",
       "      <td>soft</td>\n",
       "    </tr>\n",
       "    <tr>\n",
       "      <th>51</th>\n",
       "      <td>Christopher Cross</td>\n",
       "      <td>Sailing</td>\n",
       "      <td>soft</td>\n",
       "      <td>Well, it's not far down to paradise At least ...</td>\n",
       "      <td>soft</td>\n",
       "    </tr>\n",
       "    <tr>\n",
       "      <th>52</th>\n",
       "      <td>James Taylor</td>\n",
       "      <td>Sweet Baby James</td>\n",
       "      <td>soft</td>\n",
       "      <td>There is a young cowboy, he lives on the rang...</td>\n",
       "      <td>soft</td>\n",
       "    </tr>\n",
       "    <tr>\n",
       "      <th>53</th>\n",
       "      <td>Phoebe Snow</td>\n",
       "      <td>Poetry Man</td>\n",
       "      <td>soft</td>\n",
       "      <td>You make me laugh 'Cause your eyes they light...</td>\n",
       "      <td>soft</td>\n",
       "    </tr>\n",
       "    <tr>\n",
       "      <th>54</th>\n",
       "      <td>Firefall</td>\n",
       "      <td>You Are The Woman</td>\n",
       "      <td>soft</td>\n",
       "      <td>You are the woman that I've always dreamed of...</td>\n",
       "      <td>soft</td>\n",
       "    </tr>\n",
       "    <tr>\n",
       "      <th>55</th>\n",
       "      <td>America</td>\n",
       "      <td>Ventura Highway</td>\n",
       "      <td>soft</td>\n",
       "      <td>Chewing on a piece of grass, walking down the...</td>\n",
       "      <td>soft</td>\n",
       "    </tr>\n",
       "    <tr>\n",
       "      <th>56</th>\n",
       "      <td>Bread</td>\n",
       "      <td>Guitar Man</td>\n",
       "      <td>soft</td>\n",
       "      <td>Who draws the crowd and plays so loud, baby? ...</td>\n",
       "      <td>soft</td>\n",
       "    </tr>\n",
       "    <tr>\n",
       "      <th>57</th>\n",
       "      <td>Joni Mitchell</td>\n",
       "      <td>Help Me</td>\n",
       "      <td>soft</td>\n",
       "      <td>Help me I think I'm falling In love again Whe...</td>\n",
       "      <td>soft</td>\n",
       "    </tr>\n",
       "    <tr>\n",
       "      <th>58</th>\n",
       "      <td>Little River Band</td>\n",
       "      <td>Lonesome Loser</td>\n",
       "      <td>soft</td>\n",
       "      <td>Have you heard about the lonesome loser? Beat...</td>\n",
       "      <td>soft</td>\n",
       "    </tr>\n",
       "    <tr>\n",
       "      <th>59</th>\n",
       "      <td>Pure Prairie League</td>\n",
       "      <td>Amie</td>\n",
       "      <td>soft</td>\n",
       "      <td>I can see why you think you belong to me I ne...</td>\n",
       "      <td>soft</td>\n",
       "    </tr>\n",
       "    <tr>\n",
       "      <th>60</th>\n",
       "      <td>Beth Hart</td>\n",
       "      <td>My California</td>\n",
       "      <td>soft</td>\n",
       "      <td>Calling California is there anybody home Hell...</td>\n",
       "      <td>soft</td>\n",
       "    </tr>\n",
       "    <tr>\n",
       "      <th>61</th>\n",
       "      <td>Goo Goo Dolls</td>\n",
       "      <td>Iris</td>\n",
       "      <td>soft</td>\n",
       "      <td>And I'd give up forever to touch you 'Cause I...</td>\n",
       "      <td>soft</td>\n",
       "    </tr>\n",
       "    <tr>\n",
       "      <th>62</th>\n",
       "      <td>Dream theater</td>\n",
       "      <td>Wither</td>\n",
       "      <td>soft</td>\n",
       "      <td>Let it out, let it out Fill the empty space S...</td>\n",
       "      <td>soft</td>\n",
       "    </tr>\n",
       "    <tr>\n",
       "      <th>63</th>\n",
       "      <td>Daughtry</td>\n",
       "      <td>Home</td>\n",
       "      <td>soft</td>\n",
       "      <td>I'm staring out into the night, trying to hid...</td>\n",
       "      <td>soft</td>\n",
       "    </tr>\n",
       "    <tr>\n",
       "      <th>64</th>\n",
       "      <td>Evanescence</td>\n",
       "      <td>My Immortal</td>\n",
       "      <td>soft</td>\n",
       "      <td>I'm so tired of being here Suppressed by all ...</td>\n",
       "      <td>soft</td>\n",
       "    </tr>\n",
       "    <tr>\n",
       "      <th>65</th>\n",
       "      <td>Hoobastank</td>\n",
       "      <td>The reason</td>\n",
       "      <td>soft</td>\n",
       "      <td>I'm not a perfect person There's many things ...</td>\n",
       "      <td>soft</td>\n",
       "    </tr>\n",
       "    <tr>\n",
       "      <th>66</th>\n",
       "      <td>Green Day</td>\n",
       "      <td>When September Ends</td>\n",
       "      <td>soft</td>\n",
       "      <td>Summer has come and passed, the innocent can ...</td>\n",
       "      <td>soft</td>\n",
       "    </tr>\n",
       "    <tr>\n",
       "      <th>67</th>\n",
       "      <td>Band of horses</td>\n",
       "      <td>The Funeral</td>\n",
       "      <td>soft</td>\n",
       "      <td>I'm coming up only to hold you under And comi...</td>\n",
       "      <td>soft</td>\n",
       "    </tr>\n",
       "    <tr>\n",
       "      <th>68</th>\n",
       "      <td>Lifehouse</td>\n",
       "      <td>You and me</td>\n",
       "      <td>soft</td>\n",
       "      <td>What day is it? And in what month? This clock...</td>\n",
       "      <td>soft</td>\n",
       "    </tr>\n",
       "    <tr>\n",
       "      <th>69</th>\n",
       "      <td>Amanda Seyfried</td>\n",
       "      <td>Little House</td>\n",
       "      <td>soft</td>\n",
       "      <td>I love this place But it's haunted without yo...</td>\n",
       "      <td>soft</td>\n",
       "    </tr>\n",
       "    <tr>\n",
       "      <th>70</th>\n",
       "      <td>Damien Rice</td>\n",
       "      <td>Delicate</td>\n",
       "      <td>soft</td>\n",
       "      <td>We might kiss When we are alone When nobody's...</td>\n",
       "      <td>soft</td>\n",
       "    </tr>\n",
       "    <tr>\n",
       "      <th>71</th>\n",
       "      <td>Hozier</td>\n",
       "      <td>Take me to church</td>\n",
       "      <td>soft</td>\n",
       "      <td>My lover's got humour She's the giggle at a f...</td>\n",
       "      <td>hard</td>\n",
       "    </tr>\n",
       "    <tr>\n",
       "      <th>72</th>\n",
       "      <td>The Hollies</td>\n",
       "      <td>The Air That I Breathe</td>\n",
       "      <td>soft</td>\n",
       "      <td>If I could make a wish I think I'd pass Can't...</td>\n",
       "      <td>soft</td>\n",
       "    </tr>\n",
       "    <tr>\n",
       "      <th>73</th>\n",
       "      <td>Harry Nilsson</td>\n",
       "      <td>Without You</td>\n",
       "      <td>soft</td>\n",
       "      <td>No, I can't forget this evening Or your face ...</td>\n",
       "      <td>soft</td>\n",
       "    </tr>\n",
       "    <tr>\n",
       "      <th>74</th>\n",
       "      <td>The Doobie Brothers</td>\n",
       "      <td>What A Fool Believes</td>\n",
       "      <td>soft</td>\n",
       "      <td>He came from somewhere back in here long ago ...</td>\n",
       "      <td>soft</td>\n",
       "    </tr>\n",
       "  </tbody>\n",
       "</table>\n",
       "<p>75 rows × 5 columns</p>\n",
       "</div>"
      ],
      "text/plain": [
       "                      Singer                       Song Genre  \\\n",
       "0                 Thin Lizzy  The Boys are Back in Town  hard   \n",
       "1                   Mountain          Mississippi Queen  hard   \n",
       "2                Blind Melon                    No Rain  hard   \n",
       "3                Steppenwolf          Magic Carpet Ride  hard   \n",
       "4                Soundgarden                   Spoonman  hard   \n",
       "5                 Rob Zombie                    Dragula  hard   \n",
       "6                 Ted Nugent               Stranglehold  hard   \n",
       "7                   The Cult        She Sells Sanctuary  hard   \n",
       "8             Twisted Sister               I Wanna Rock  hard   \n",
       "9                   Megadeth    Symphony of Destruction  hard   \n",
       "10                Quiet Riot      Cum on Feel the Noize  hard   \n",
       "11             Dead Kennedys        Holiday in Cambodia  hard   \n",
       "12              Judas Priest      Living After Midnight  hard   \n",
       "13                      KISS          Detroit Rock City  hard   \n",
       "14                 Green Day                Basket Case  hard   \n",
       "15              Foo Fighters                   Everlong  hard   \n",
       "16              White Zombie      More Human Than Human  hard   \n",
       "17                   Anthrax                   Madhouse  hard   \n",
       "18        Jefferson Airplane               White Rabbit  hard   \n",
       "19            New York Dolls         Personality Crisis  hard   \n",
       "20                Thin Lizzy                  Jailbreak  hard   \n",
       "21       Stone Temple Pilots                      Plush  hard   \n",
       "22                      Tool                     Schism  hard   \n",
       "23             Faith No More                       Epic  hard   \n",
       "24               Iron Maiden           Run to the Hills  hard   \n",
       "25                    Slayer              Raining Blood  hard   \n",
       "26                  Megadeth                Peace Sells  hard   \n",
       "27                   Pantera                       Walk  hard   \n",
       "28                Ted Nugent          Cat Scratch Fever  hard   \n",
       "29        Jefferson Airplane           Somebody to Love  hard   \n",
       "..                       ...                        ...   ...   \n",
       "45             Black Sabbath                   Iron Man  hard   \n",
       "46                       Ace                   How Long  soft   \n",
       "47               Bryan Adams          Cloud Number Nine  soft   \n",
       "48               Bryan Adams          Please Forgive Me  soft   \n",
       "49  The Alan Parsons Project             Eye in the Sky  soft   \n",
       "50                   Orleans              Dance With Me  soft   \n",
       "51         Christopher Cross                    Sailing  soft   \n",
       "52              James Taylor           Sweet Baby James  soft   \n",
       "53               Phoebe Snow                 Poetry Man  soft   \n",
       "54                  Firefall          You Are The Woman  soft   \n",
       "55                   America            Ventura Highway  soft   \n",
       "56                     Bread                 Guitar Man  soft   \n",
       "57             Joni Mitchell                    Help Me  soft   \n",
       "58         Little River Band             Lonesome Loser  soft   \n",
       "59       Pure Prairie League                       Amie  soft   \n",
       "60                 Beth Hart              My California  soft   \n",
       "61             Goo Goo Dolls                       Iris  soft   \n",
       "62             Dream theater                     Wither  soft   \n",
       "63                  Daughtry                       Home  soft   \n",
       "64               Evanescence                My Immortal  soft   \n",
       "65                Hoobastank                 The reason  soft   \n",
       "66                 Green Day        When September Ends  soft   \n",
       "67            Band of horses                The Funeral  soft   \n",
       "68                 Lifehouse                 You and me  soft   \n",
       "69           Amanda Seyfried               Little House  soft   \n",
       "70               Damien Rice                   Delicate  soft   \n",
       "71                    Hozier          Take me to church  soft   \n",
       "72               The Hollies     The Air That I Breathe  soft   \n",
       "73             Harry Nilsson                Without You  soft   \n",
       "74       The Doobie Brothers       What A Fool Believes  soft   \n",
       "\n",
       "                                               Lyrics prediction  \n",
       "0    Guess who just got back today Them wild-eyed ...       soft  \n",
       "1    Mississippi Queen, if you know what I mean Mi...       hard  \n",
       "2    Ooh, hoo hoo hoo Hoo hoo hoo  All I can say i...       soft  \n",
       "3    I like to dream Yes, yes, right between my so...       hard  \n",
       "4    Oh Mmm  Feel the rhythm with your hands ( Ste...       hard  \n",
       "5    \"Superstition, fear, and jealousy.\"  Dead I a...       hard  \n",
       "6    Here I come again now, baby Like a dog in hea...       hard  \n",
       "7    Oh the heads that turn Make my back burn Oh t...       hard  \n",
       "8    I wanna rock (Rock) I wanna rock (Rock) I wan...       soft  \n",
       "9    You take a mortal man And put him in control ...       hard  \n",
       "10   Come on, feel the noise Girls, rock your boys...       hard  \n",
       "11   So you been to school for a year or two And y...       hard  \n",
       "12   Livin' after midnight Rockin' to the dawn Lov...       soft  \n",
       "13   I feel uptight on a Saturday night Nine o'clo...       hard  \n",
       "14   Do you have the time to listen to me whine Ab...       hard  \n",
       "15   Hello, I've waited here for you Everlong Toni...       soft  \n",
       "16   Yeah, I am the astro-creep A demolition style...       hard  \n",
       "17   It's time for your medication, Mr. Brown Oohh...       hard  \n",
       "18   One pill makes you larger And one pill makes ...       hard  \n",
       "19   Woah, yeah yeah yeah No, no, no, no, no, no, ...       soft  \n",
       "20   Tonight there's gonna be a jailbreak Somewher...       hard  \n",
       "21   And I feel that time's a wasted go So where y...       soft  \n",
       "22   I know the pieces fit 'cause I watched them f...       hard  \n",
       "23   Can you feel it, see it, hear it today? If yo...       hard  \n",
       "24   White man came across the sea He brought us p...       hard  \n",
       "25   Trapped in purgatory A lifeless object, alive...       hard  \n",
       "26   What do you mean I don't believe in God? Talk...       hard  \n",
       "27   Can't you see I'm easily bothered by persiste...       soft  \n",
       "28   Well, I don't know where they come from but t...       hard  \n",
       "29   When the truth is found to be lies And all th...       hard  \n",
       "..                                                ...        ...  \n",
       "45    I am Iron Man   Has he lost his mind? Can he...       hard  \n",
       "46   How long has this been going on? How long has...       soft  \n",
       "47   Clue number one was when you knocked on my do...       soft  \n",
       "48   Still feels like our first night together Fee...       soft  \n",
       "49   Don't think sorry is easily said Don't try tu...       soft  \n",
       "50   Dance with me I want to be your partner Can't...       soft  \n",
       "51   Well, it's not far down to paradise At least ...       soft  \n",
       "52   There is a young cowboy, he lives on the rang...       soft  \n",
       "53   You make me laugh 'Cause your eyes they light...       soft  \n",
       "54   You are the woman that I've always dreamed of...       soft  \n",
       "55   Chewing on a piece of grass, walking down the...       soft  \n",
       "56   Who draws the crowd and plays so loud, baby? ...       soft  \n",
       "57   Help me I think I'm falling In love again Whe...       soft  \n",
       "58   Have you heard about the lonesome loser? Beat...       soft  \n",
       "59   I can see why you think you belong to me I ne...       soft  \n",
       "60   Calling California is there anybody home Hell...       soft  \n",
       "61   And I'd give up forever to touch you 'Cause I...       soft  \n",
       "62   Let it out, let it out Fill the empty space S...       soft  \n",
       "63   I'm staring out into the night, trying to hid...       soft  \n",
       "64   I'm so tired of being here Suppressed by all ...       soft  \n",
       "65   I'm not a perfect person There's many things ...       soft  \n",
       "66   Summer has come and passed, the innocent can ...       soft  \n",
       "67   I'm coming up only to hold you under And comi...       soft  \n",
       "68   What day is it? And in what month? This clock...       soft  \n",
       "69   I love this place But it's haunted without yo...       soft  \n",
       "70   We might kiss When we are alone When nobody's...       soft  \n",
       "71   My lover's got humour She's the giggle at a f...       hard  \n",
       "72   If I could make a wish I think I'd pass Can't...       soft  \n",
       "73   No, I can't forget this evening Or your face ...       soft  \n",
       "74   He came from somewhere back in here long ago ...       soft  \n",
       "\n",
       "[75 rows x 5 columns]"
      ]
     },
     "execution_count": 128,
     "metadata": {},
     "output_type": "execute_result"
    }
   ],
   "source": [
    "hs2"
   ]
  },
  {
   "cell_type": "code",
   "execution_count": 129,
   "metadata": {
    "collapsed": true
   },
   "outputs": [],
   "source": [
    "hs2.to_csv('test data and prediction results.csv')"
   ]
  },
  {
   "cell_type": "code",
   "execution_count": 141,
   "metadata": {},
   "outputs": [
    {
     "data": {
      "text/plain": [
       "46"
      ]
     },
     "execution_count": 141,
     "metadata": {},
     "output_type": "execute_result"
    }
   ],
   "source": [
    "from collections import Counter\n",
    "Counter(hs2['Genre'])[list(Counter(hs2['Genre']))[0]]"
   ]
  },
  {
   "cell_type": "code",
   "execution_count": 144,
   "metadata": {
    "collapsed": true
   },
   "outputs": [],
   "source": [
    "from __future__ import division"
   ]
  },
  {
   "cell_type": "code",
   "execution_count": 223,
   "metadata": {},
   "outputs": [],
   "source": [
    "# calculate confusion matrix, accuracy, precision, recall\n",
    "\n",
    "def summary(obs, pred):\n",
    "    type0 = list(Counter(obs))[0]\n",
    "    type1 = list(Counter(obs))[1]\n",
    "    count_o1p1,count_o0p0,count_o1p0,count_o0p1 = 0,0,0,0\n",
    "    for i in range(len(obs)):\n",
    "        if obs[i] == type0:\n",
    "            if pred[i] == type0:\n",
    "                count_o0p0 += 1\n",
    "            else:\n",
    "                count_o0p1 += 1\n",
    "        else:\n",
    "            if pred[i] == type1:\n",
    "                count_o1p1 += 1\n",
    "            else:\n",
    "                count_o1p0 += 1\n",
    "    print \"observation \"+str(list(Counter(obs))[0])+\" \"+str(list(Counter(obs))[1])\n",
    "    print \"prediction\"\n",
    "    print str(list(Counter(obs))[0])+\"        \"+str(count_o0p0)+\"    \"+str(count_o1p0)\n",
    "    print str(list(Counter(obs))[1])+\"        \"+str(count_o0p1)+\"    \"+str(count_o1p1)\n",
    "    print\n",
    "    print \"Accuracy: \"+str((count_o0p0 + count_o1p1)/len(obs))\n",
    "    print \"Precision for \"+str(list(Counter(obs))[0])+\": \"+str(count_o0p0/(count_o0p0 + count_o1p0))\n",
    "    print \"Recall for \"+str(list(Counter(obs))[0])+\": \"+str(count_o0p0/(count_o0p0 + count_o0p1))"
   ]
  },
  {
   "cell_type": "code",
   "execution_count": 224,
   "metadata": {},
   "outputs": [
    {
     "name": "stdout",
     "output_type": "stream",
     "text": [
      "observation hard soft\n",
      "prediction\n",
      "hard        33    1\n",
      "soft        13    28\n",
      "\n",
      "Accuracy: 0.813333333333\n",
      "Precision for hard: 0.970588235294\n",
      "Recall for hard: 0.717391304348\n"
     ]
    }
   ],
   "source": [
    "summary(hs2['Genre'],hs2['prediction'])"
   ]
  },
  {
   "cell_type": "code",
   "execution_count": 179,
   "metadata": {},
   "outputs": [],
   "source": [
    "import os\n",
    "os.chdir('E:\\\\Lyrics of 50 bands\\\\lyrics by song')\n",
    "files = []\n",
    "for i in os.listdir(\"E:\\\\Lyrics of 50 bands\\\\lyrics by song\"):\n",
    "    if i.endswith('.txt'):\n",
    "        files.append(open(i).read())\n",
    "        names.append(i)"
   ]
  },
  {
   "cell_type": "code",
   "execution_count": 170,
   "metadata": {},
   "outputs": [
    {
     "data": {
      "text/plain": [
       "Counter({'hard': 859, 'soft': 1641})"
      ]
     },
     "execution_count": 170,
     "metadata": {},
     "output_type": "execute_result"
    }
   ],
   "source": [
    "results = [cl.classify(f) for f in files]\n",
    "Counter(results)"
   ]
  },
  {
   "cell_type": "code",
   "execution_count": 181,
   "metadata": {},
   "outputs": [],
   "source": [
    "count_hard = [0]*50\n",
    "count_soft = [0]*50\n",
    "\n",
    "for i in range(50):\n",
    "    for j in range(2500):\n",
    "        if singers[i] in names[j]:\n",
    "            if results[j] == 'hard':\n",
    "                count_hard[i] += 1\n",
    "            else:\n",
    "                count_soft[i] += 1\n",
    "\n",
    "classified = pd.DataFrame({'artist':singers,'classified hard rock':count_hard,'classified soft rock':count_soft})"
   ]
  },
  {
   "cell_type": "code",
   "execution_count": 188,
   "metadata": {},
   "outputs": [
    {
     "data": {
      "image/png": "[encoded data removed]",
      "text/plain": [
       "<matplotlib.figure.Figure at 0x18f2f438>"
      ]
     },
     "metadata": {},
     "output_type": "display_data"
    }
   ],
   "source": [
    "import seaborn as sns\n",
    "import matplotlib.pyplot as plt\n",
    "% matplotlib inline\n",
    "sns.set(style=\"whitegrid\")\n",
    "\n",
    "# Initialize the matplotlib figure\n",
    "f, ax = plt.subplots(figsize=(6, 15))\n",
    "\n",
    "# Plot the total crashes\n",
    "sns.barplot(x=[50]*50, y='artist', data=classified,\n",
    "            label=\"hard rock\", color=\"r\")\n",
    "\n",
    "# Plot the crashes where alcohol was involved\n",
    "sns.barplot(x='classified soft rock', y='artist', data=classified,\n",
    "            label=\"soft rock\", color=\"g\")\n",
    "\n",
    "# Add a legend and informative axis label\n",
    "ax.legend(ncol=2, loc=\"lower right\", frameon=True)\n",
    "ax.set(xlim=(0, 50), ylabel=\"rock artist\",\n",
    "       xlabel=\"counts of rock songs classified hard or soft\")\n",
    "sns.despine(left=True, bottom=True)"
   ]
  },
  {
   "cell_type": "code",
   "execution_count": 190,
   "metadata": {},
   "outputs": [],
   "source": [
    " from sklearn.datasets import fetch_20newsgroups"
   ]
  },
  {
   "cell_type": "code",
   "execution_count": 194,
   "metadata": {},
   "outputs": [
    {
     "data": {
      "text/plain": [
       "u'From: sd345@city.ac.uk (Michael Collier)\\nSubject: Converting images to HP LaserJet III?\\nNntp-Posting-Host: hampton\\nOrganization: The City University\\nLines: 14\\n\\nDoes anyone know of a good way (standard PC application/PD utility) to\\nconvert tif/img/tga files into LaserJet III format.  We would also like to\\ndo the same, converting to HPGL (HP plotter) files.\\n\\nPlease email any response.\\n\\nIs this the correct group?\\n\\nThanks in advance.  Michael.\\n-- \\nMichael Collier (Programmer)                 The Computer Unit,\\nEmail: M.P.Collier@uk.ac.city                The City University,\\nTel: 071 477-8000 x3769                      London,\\nFax: 071 477-8565                            EC1V 0HB.\\n'"
      ]
     },
     "execution_count": 194,
     "metadata": {},
     "output_type": "execute_result"
    }
   ],
   "source": [
    "twenty_train.data[0]"
   ]
  },
  {
   "cell_type": "code",
   "execution_count": 195,
   "metadata": {
    "collapsed": true
   },
   "outputs": [],
   "source": [
    "from sklearn.feature_extraction.text import CountVectorizer\n",
    "count_vect = CountVectorizer()\n",
    "X_train_counts = count_vect.fit_transform(df['Lyrics'])"
   ]
  },
  {
   "cell_type": "code",
   "execution_count": 197,
   "metadata": {},
   "outputs": [],
   "source": [
    "from sklearn.feature_extraction.text import TfidfTransformer\n",
    "tf_transformer = TfidfTransformer(use_idf=False).fit(X_train_counts)\n",
    "X_train_tf = tf_transformer.transform(X_train_counts)"
   ]
  },
  {
   "cell_type": "code",
   "execution_count": 199,
   "metadata": {},
   "outputs": [],
   "source": [
    "from sklearn.linear_model import SGDClassifier\n",
    "from sklearn.pipeline import Pipeline\n",
    "text_clf = Pipeline([('vect', CountVectorizer()),\n",
    "                     ('tfidf', TfidfTransformer()),\n",
    "                     ('clf', SGDClassifier(loss='hinge', penalty='l2',alpha=1e-3, n_iter=5, random_state=42)),])\n",
    "svm_classifier= text_clf.fit(df['Lyrics'], df['Genre'])"
   ]
  },
  {
   "cell_type": "code",
   "execution_count": 201,
   "metadata": {},
   "outputs": [],
   "source": [
    "predicted = text_clf.predict(hs2['Lyrics'])"
   ]
  },
  {
   "cell_type": "code",
   "execution_count": 203,
   "metadata": {},
   "outputs": [
    {
     "data": {
      "text/plain": [
       "0.82666666666666666"
      ]
     },
     "execution_count": 203,
     "metadata": {},
     "output_type": "execute_result"
    }
   ],
   "source": [
    "import numpy as np\n",
    "np.mean(predicted == hs2['Genre']) "
   ]
  },
  {
   "cell_type": "code",
   "execution_count": 222,
   "metadata": {},
   "outputs": [
    {
     "name": "stdout",
     "output_type": "stream",
     "text": [
      "observation hard soft\n",
      "prediction\n",
      "hard        37    4\n",
      "soft        9    25\n",
      "\n",
      "Accuracy: 0.826666666667\n",
      "Precision for hard: 0.90243902439\n",
      "Recall for soft: 0.804347826087\n"
     ]
    }
   ],
   "source": [
    "summary(hs2['Genre'],predicted)"
   ]
  },
  {
   "cell_type": "code",
   "execution_count": 204,
   "metadata": {},
   "outputs": [
    {
     "name": "stdout",
     "output_type": "stream",
     "text": [
      "             precision    recall  f1-score   support\n",
      "\n",
      "       hard       0.90      0.80      0.85        46\n",
      "       soft       0.74      0.86      0.79        29\n",
      "\n",
      "avg / total       0.84      0.83      0.83        75\n",
      "\n"
     ]
    }
   ],
   "source": [
    "from sklearn import metrics\n",
    "print(metrics.classification_report(hs2['Genre'], predicted,target_names=['hard','soft']))"
   ]
  },
  {
   "cell_type": "code",
   "execution_count": 227,
   "metadata": {},
   "outputs": [
    {
     "name": "stdout",
     "output_type": "stream",
     "text": [
      "             precision    recall  f1-score   support\n",
      "\n",
      "       hard       0.97      0.72      0.82        46\n",
      "       soft       0.68      0.97      0.80        29\n",
      "\n",
      "avg / total       0.86      0.81      0.82        75\n",
      "\n"
     ]
    }
   ],
   "source": [
    "print(metrics.classification_report(hs2['Genre'], hs2['prediction'],target_names=['hard','soft']))"
   ]
  },
  {
   "cell_type": "code",
   "execution_count": 205,
   "metadata": {
    "collapsed": true
   },
   "outputs": [],
   "source": [
    "tfidf_transformer = TfidfTransformer()\n",
    "X_train_tfidf = tfidf_transformer.fit_transform(X_train_counts)\n",
    "from sklearn.naive_bayes import MultinomialNB\n",
    "clf = MultinomialNB().fit(X_train_tfidf, df['Genre'])"
   ]
  },
  {
   "cell_type": "code",
   "execution_count": 206,
   "metadata": {
    "collapsed": true
   },
   "outputs": [],
   "source": [
    "X_new_counts = count_vect.transform(hs2['Lyrics'])\n",
    "X_new_tfidf = tfidf_transformer.transform(X_new_counts)\n",
    "predicted_NB = clf.predict(X_new_tfidf)"
   ]
  },
  {
   "cell_type": "code",
   "execution_count": 208,
   "metadata": {},
   "outputs": [
    {
     "data": {
      "text/plain": [
       "0.69333333333333336"
      ]
     },
     "execution_count": 208,
     "metadata": {},
     "output_type": "execute_result"
    }
   ],
   "source": [
    "np.mean(predicted_NB == hs2['Genre'])   "
   ]
  },
  {
   "cell_type": "code",
   "execution_count": 210,
   "metadata": {},
   "outputs": [],
   "source": [
    "hs2['Predicted_SVM'] = list(predicted)"
   ]
  },
  {
   "cell_type": "code",
   "execution_count": 219,
   "metadata": {},
   "outputs": [],
   "source": [
    "results_svm = text_clf.predict(files) \n",
    "\n",
    "count_hard = [0]*50\n",
    "count_soft = [0]*50\n",
    "\n",
    "for i in range(50):\n",
    "    for j in range(2500):\n",
    "        if singers[i] in names[j]:\n",
    "            if results_svm[j] == 'hard':\n",
    "                count_hard[i] += 1\n",
    "            else:\n",
    "                count_soft[i] += 1\n",
    "\n",
    "classified = pd.DataFrame({'artist':singers,'svm classified hard rock':count_hard,'svm classified soft rock':count_soft})"
   ]
  },
  {
   "cell_type": "code",
   "execution_count": 221,
   "metadata": {},
   "outputs": [
    {
     "data": {
      "image/png": "[encoded data removed]",
      "text/plain": [
       "<matplotlib.figure.Figure at 0xb23ddd8>"
      ]
     },
     "metadata": {},
     "output_type": "display_data"
    }
   ],
   "source": [
    "sns.set(style=\"whitegrid\")\n",
    "\n",
    "# Initialize the matplotlib figure\n",
    "f, ax = plt.subplots(figsize=(6, 15))\n",
    "\n",
    "# Plot the total crashes\n",
    "sns.barplot(x=[50]*50, y='artist', data=classified,\n",
    "            label=\"hard rock\", color=\"r\")\n",
    "\n",
    "# Plot the crashes where alcohol was involved\n",
    "sns.barplot(x='svm classified soft rock', y='artist', data=classified,\n",
    "            label=\"soft rock\", color=\"g\")\n",
    "\n",
    "# Add a legend and informative axis label\n",
    "ax.legend(ncol=2, loc=\"lower right\", frameon=True)\n",
    "ax.set(xlim=(0, 50), ylabel=\"rock artist\",\n",
    "       xlabel=\"counts of rock songs classified hard or soft using SVM\" )\n",
    "sns.despine(left=True, bottom=True)"
   ]
  },
  {
   "cell_type": "code",
   "execution_count": 294,
   "metadata": {
    "collapsed": true
   },
   "outputs": [],
   "source": [
    "tfidf = pd.read_csv('E:\\\\Lyrics of 50 bands\\\\output\\\\tfidf descending result.csv')"
   ]
  },
  {
   "cell_type": "code",
   "execution_count": 295,
   "metadata": {},
   "outputs": [],
   "source": [
    "soft_sample = [df['Lyrics'][i].decode(\"utf8\") for i in range(len(df)) if df['Genre'][i]=='soft']"
   ]
  },
  {
   "cell_type": "code",
   "execution_count": 311,
   "metadata": {},
   "outputs": [],
   "source": [
    "hard_singers = [classified['artist'][i]\n",
    "                for i in range(len(classified)) if classified['svm classified soft rock'][i] < 30 ] "
   ]
  },
  {
   "cell_type": "code",
   "execution_count": 317,
   "metadata": {},
   "outputs": [],
   "source": [
    "soft_singers = list(set(classified['artist']) - set(hard_singers))"
   ]
  },
  {
   "cell_type": "code",
   "execution_count": 323,
   "metadata": {},
   "outputs": [],
   "source": [
    "import os\n",
    "os.chdir('E:\\\\Lyrics of 50 bands\\\\Lyrics by rock artist')\n",
    "files2 = []\n",
    "names2 = []\n",
    "for i in os.listdir(\"E:\\\\Lyrics of 50 bands\\\\Lyrics by rock artist\"):\n",
    "    if i.endswith('.txt'):\n",
    "        files2.append(open(i).read())\n",
    "        names2.append(i[:-4])"
   ]
  },
  {
   "cell_type": "code",
   "execution_count": 325,
   "metadata": {
    "collapsed": true
   },
   "outputs": [],
   "source": [
    "from textblob import TextBlob\n",
    "\n",
    "hard_sentiment = [TextBlob(files2[i]).sentiment.polarity for i in range(50) if names2[i] in hard_singers]\n",
    "soft_sentiment = [TextBlob(files2[i]).sentiment.polarity for i in range(50) if names2[i] in soft_singers]"
   ]
  },
  {
   "cell_type": "code",
   "execution_count": 327,
   "metadata": {},
   "outputs": [],
   "source": [
    "from __future__ import division\n",
    "\n",
    "hard_sentiment = sum(hard_sentiment)/len(hard_singers)\n",
    "soft_sentiment = sum(soft_sentiment)/len(soft_singers)"
   ]
  },
  {
   "cell_type": "code",
   "execution_count": 336,
   "metadata": {
    "collapsed": true
   },
   "outputs": [],
   "source": [
    "df_senti = pd.DataFrame({\"Genre\":['hard rock','soft rock'],\"Average Sentiment\":[0.06322422035217948,0.17681712451951176]})"
   ]
  },
  {
   "cell_type": "code",
   "execution_count": 340,
   "metadata": {},
   "outputs": [
    {
     "data": {
      "image/png": "[encoded data removed]",
      "text/plain": [
       "<matplotlib.figure.Figure at 0x267511d0>"
      ]
     },
     "metadata": {},
     "output_type": "display_data"
    }
   ],
   "source": [
    "x_pos = np.arange(2)\n",
    "plt.bar(x_pos, df_senti['Average Sentiment'], align='center', alpha=0.5,color=['r','b'])\n",
    "plt.xticks(x_pos, df_senti['Genre'])\n",
    "plt.ylabel('Sentiment Scores')\n",
    "plt.show()"
   ]
  },
  {
   "cell_type": "code",
   "execution_count": 332,
   "metadata": {},
   "outputs": [],
   "source": [
    "ll = [TextBlob(df['Lyrics'][i].decode('utf8')).sentiment.polarity for i in range(len(df)) if df['Genre'][i] == 'hard']"
   ]
  },
  {
   "cell_type": "code",
   "execution_count": 334,
   "metadata": {},
   "outputs": [
    {
     "data": {
      "text/plain": [
       "0.06322422035217948"
      ]
     },
     "execution_count": 334,
     "metadata": {},
     "output_type": "execute_result"
    }
   ],
   "source": [
    "sum(ll)/len(ll)"
   ]
  },
  {
   "cell_type": "code",
   "execution_count": 335,
   "metadata": {},
   "outputs": [
    {
     "data": {
      "text/plain": [
       "0.17681712451951176"
      ]
     },
     "execution_count": 335,
     "metadata": {},
     "output_type": "execute_result"
    }
   ],
   "source": [
    "ln = [TextBlob(df['Lyrics'][i].decode('utf8')).sentiment.polarity for i in range(len(df)) if df['Genre'][i] == 'soft']\n",
    "sum(ln)/len(ln)"
   ]
  },
  {
   "cell_type": "code",
   "execution_count": null,
   "metadata": {
    "collapsed": true
   },
   "outputs": [],
   "source": []
  }
 ],
 "metadata": {
  "kernelspec": {
   "display_name": "Python 2",
   "language": "python",
   "name": "python2"
  },
  "language_info": {
   "codemirror_mode": {
    "name": "ipython",
    "version": 2
   },
   "file_extension": ".py",
   "mimetype": "text/x-python",
   "name": "python",
   "nbconvert_exporter": "python",
   "pygments_lexer": "ipython2",
   "version": "2.7.13"
  }
 },
 "nbformat": 4,
 "nbformat_minor": 2
}
