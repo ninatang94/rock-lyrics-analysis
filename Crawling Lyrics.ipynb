{
 "cells": [
  {
   "cell_type": "code",
   "execution_count": 1,
   "metadata": {
    "collapsed": true
   },
   "outputs": [],
   "source": [
    "from bs4 import BeautifulSoup\n",
    "import requests\n",
    "import re\n",
    "from string import Template"
   ]
  },
  {
   "cell_type": "code",
   "execution_count": null,
   "metadata": {
    "collapsed": true
   },
   "outputs": [],
   "source": [
    "'''\n",
    "import os\n",
    "os.chdir('E:\\\\Lyrics of 50 bands\\\\lyrics by song')\n",
    "'''"
   ]
  },
  {
   "cell_type": "code",
   "execution_count": 2,
   "metadata": {
    "collapsed": true
   },
   "outputs": [],
   "source": [
    "# crawl the top 50 song names given a singer name\n",
    "def songs_50(singer_name):\n",
    "    url = Template('http://www.top50songs.org/artist.php?artist=$Coldplay')\n",
    "    url = url.substitute(Coldplay=singer_name)\n",
    "    result = requests.get(url)\n",
    "    c = result.content\n",
    "    soup = BeautifulSoup(c)\n",
    "    summary = soup.find(\"div\")\n",
    "    rows = summary.findAll('li')\n",
    "    songs = []\n",
    "    for li in rows:\n",
    "        for a in li.findAll('a',title=True):\n",
    "            songs.append(a['title'])\n",
    "    return songs"
   ]
  },
  {
   "cell_type": "code",
   "execution_count": 3,
   "metadata": {},
   "outputs": [
    {
     "name": "stdout",
     "output_type": "stream",
     "text": [
      "['Baby', 'Sorry', 'One Time', 'What Do You Mean?', 'Boyfriend', 'Love Yourself', 'As Long as You Love Me', 'Beauty and a Beat', 'Somebody to Love', 'One Less Lonely Girl', 'Love Me', 'Mistletoe', \"I'll Show You\", 'Company', 'Eenie Meenie', 'U Smile', 'Favorite Girl', 'All Around the World', 'That Should Be Me', 'Never Let You Go', 'Stuck in the Moment', 'Mark My Words', 'Down to Earth', 'puRPOse', 'The Feeling', 'Home To Mama', 'Never Say Never', 'Up', 'Die in Your Arms', 'Bigger', 'No Pressure', 'Children', 'Runaway Love', 'Take You', 'Life Is Worth Living', 'Been You', 'Be Alright', 'What Do You Mean? - Acoustic', 'No Sense', 'All That Matters', 'Fall', 'Confident', 'Catching Feelings', 'One Love', 'Thought of You', 'Believe', 'Get Used To It', 'Trust', 'Beauty and a Beat (feat. Nicki Minaj)', 'Right Here']\n"
     ]
    },
    {
     "name": "stderr",
     "output_type": "stream",
     "text": [
      "F:\\Anaconda\\lib\\site-packages\\bs4\\__init__.py:181: UserWarning: No parser was explicitly specified, so I'm using the best available HTML parser for this system (\"lxml\"). This usually isn't a problem, but if you run this code on another system, or in a different virtual environment, it may use a different parser and behave differently.\n",
      "\n",
      "The code that caused this warning is on line 174 of the file F:\\Anaconda\\lib\\runpy.py. To get rid of this warning, change code that looks like this:\n",
      "\n",
      " BeautifulSoup(YOUR_MARKUP})\n",
      "\n",
      "to this:\n",
      "\n",
      " BeautifulSoup(YOUR_MARKUP, \"lxml\")\n",
      "\n",
      "  markup_type=markup_type))\n"
     ]
    }
   ],
   "source": [
    "print songs_50('Justin Bieber')"
   ]
  },
  {
   "cell_type": "code",
   "execution_count": 4,
   "metadata": {
    "collapsed": true
   },
   "outputs": [],
   "source": [
    "def cleanhtml(raw_html):\n",
    "  cleanr = re.compile('<.*?>')\n",
    "  cleantext = re.sub(cleanr, ' ', raw_html)\n",
    "  return cleantext "
   ]
  },
  {
   "cell_type": "code",
   "execution_count": 5,
   "metadata": {
    "collapsed": true
   },
   "outputs": [],
   "source": [
    "# scrap the specific lyrics given the singer's name and the song \n",
    "def get_lyrics(singer,song):\n",
    "    result = requests.get('http://lyrics.wikia.com/{0}:{1}'.format(singer,song))\n",
    "    soup  = BeautifulSoup(result.content)\n",
    "    lyrics = soup.find(\"div\",{'class':'lyricbox'})\n",
    "    return cleanhtml(str(lyrics))"
   ]
  },
  {
   "cell_type": "code",
   "execution_count": 6,
   "metadata": {},
   "outputs": [
    {
     "name": "stdout",
     "output_type": "stream",
     "text": [
      " Aye aye aye aye aye aye aye aye Me plus you (I'ma tell you one time) Me plus you (one time, I'ma tell you one time) Me plus you (one time, I'ma tell you one time) One time (one time) One time  When I met you girl my heart went knock knock Now them butterflies in my stomach won't stop stop And even though it's a struggle love is all we got So we goin' keep keep climbin' to the mountain top  Your world is my world And my fight is your fight My breath is your breath When you're hurt, I'm not right  You're my one love, my one heart, my one life for sure Let me tell you one time (girl I love, girl I love you) I'ma tell you one time (girl I love, girl I love you) And I'ma be your one guy You'll be my number one girl Always making time for you I'ma tell you one time (girl I love, girl I love you) I'ma tell you one time (girl I love, girl I love you)  You look so deep, you know that it humbles me You by my side and troubles them don't trouble me Many have called but the chosen is you Whatever you want shawty I'll give it to you  Your world (your world) is my world And my fight (my fight) is your fight My breath is your breath When you're hurt, I'm not right  You're my one love, my one heart, my one life for sure Let me tell you one time (girl I love, girl I love you) I'ma tell you one time (girl I love, girl I love you) And I'ma be your one guy You'll be my number one girl Always making time for you I'ma tell you one time (girl I love, girl I love you) I'ma tell you one time (girl I love, girl I love you)  Shawty right there She's got everything I need and I'ma tell her one time (one time, one time) Give you everything you need, down to my last dime She makes me happy, I know where I'll be Right by your side 'cause she is the one  And girl you're my one love My one heart, my one life for sure Let me tell you one time (girl I love, girl I love you) I'ma tell you one time (girl I love, girl I love you)  And I'ma be your one guy You'll be my number one girl Always making time for you I'ma tell you one time (one time) I'ma tell you one time (one time)  Me plus you (I'ma tell you one time) Me plus you (one time, I'ma tell you one time) Me plus you (one time, I'ma tell you one time) One time (one time) One time  \n",
      " \n"
     ]
    }
   ],
   "source": [
    "print get_lyrics('Justin Bieber','One Time')"
   ]
  },
  {
   "cell_type": "code",
   "execution_count": 7,
   "metadata": {
    "collapsed": true
   },
   "outputs": [],
   "source": [
    "# scrap the lyrics of the top 50 songs given a singer name, return a list of lyrics, whose length equals to 50\n",
    "def get_lyrics_of_singer(singer):\n",
    "    lyrics_s = []\n",
    "    songs_list = songs_50(singer)\n",
    "    for song in songs_list:\n",
    "        l = get_lyrics(singer,song)\n",
    "        l = l.decode('unicode_escape').encode('ascii','ignore')\n",
    "        l = re.sub(\"\\n\",\"\",l)  \n",
    "        l = l.decode('utf8')\n",
    "        lyrics_s.append(l)\n",
    "    return lyrics_s\n"
   ]
  },
  {
   "cell_type": "code",
   "execution_count": 22,
   "metadata": {
    "collapsed": true
   },
   "outputs": [],
   "source": [
    "singers_60 = ['Bob Dylan','The Beatles','The Beach Boys','The Supremes','The Kinks','The Animals','Cream',\n",
    "              'The Rolling Stones','The Doors','Elvis Presley']#10\n",
    "singers_70 = ['Led Zeppelin','Pink Floyd','The Carpenters','Eagles','Elton John',\n",
    "              'Queen','The Who','Fleetwood Mac','Chicago','Deep Purple']#10\n",
    "singers_80 = ['Guns N Roses','AC/DC','Poison','U2','Def Leppard',\n",
    "              'Van Halen','Journey','Bon Jovi','Prince','Scorpions']#10\n",
    "singers_90 = ['Nirvana','Pearl Jam','R.E.M','Weezer','Metallica',\n",
    "              'Red Hot Chili Peppers','Sonic Youth','Nine Inch Nails','The Smashing Pumpkins','Oasis'] #10\n",
    "singers_00 = ['Radiohead','The White Stripes','Coldplay','Nickelback','Linkin Park',\n",
    "             'Three Days Grace','My Chemical Romance','Breaking Benjamin','Muse','Avenged Sevenfold'] #10"
   ]
  },
  {
   "cell_type": "code",
   "execution_count": 15,
   "metadata": {
    "collapsed": true
   },
   "outputs": [],
   "source": [
    "singers = singers_60 + singers_70 + singers_80 + singers_90 + singers_00"
   ]
  },
  {
   "cell_type": "code",
   "execution_count": 27,
   "metadata": {
    "collapsed": true
   },
   "outputs": [],
   "source": [
    "# save the lyrics by rock artists\n",
    "for s in singers:\n",
    "    lyrics = \" \".join(get_lyrics_of_singer(s))\n",
    "    file = open('{0}.txt'.format(s.replace('/','')),'w')\n",
    "    file.write(lyrics)\n",
    "    file.close()                      "
   ]
  },
  {
   "cell_type": "code",
   "execution_count": 29,
   "metadata": {
    "collapsed": true
   },
   "outputs": [],
   "source": [
    "# save the lyrics by song\n",
    "for s in singers:\n",
    "    works = get_lyrics_of_singer(s)\n",
    "    for i in range(len(works)):\n",
    "        file = open('{0}{1}.txt'.format(s.replace('/',''),i),'w')\n",
    "        file.write(works[i])\n",
    "        file.close()"
   ]
  }
 ],
 "metadata": {
  "kernelspec": {
   "display_name": "Python 2",
   "language": "python",
   "name": "python2"
  },
  "language_info": {
   "codemirror_mode": {
    "name": "ipython",
    "version": 2
   },
   "file_extension": ".py",
   "mimetype": "text/x-python",
   "name": "python",
   "nbconvert_exporter": "python",
   "pygments_lexer": "ipython2",
   "version": "2.7.13"
  }
 },
 "nbformat": 4,
 "nbformat_minor": 2
}
